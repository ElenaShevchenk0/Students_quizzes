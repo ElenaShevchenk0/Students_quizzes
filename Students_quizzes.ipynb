{
 "cells": [
  {
   "cell_type": "code",
   "execution_count": 19,
   "metadata": {},
   "outputs": [
    {
     "data": {
      "text/html": [
       "<div>\n",
       "<style scoped>\n",
       "    .dataframe tbody tr th:only-of-type {\n",
       "        vertical-align: middle;\n",
       "    }\n",
       "\n",
       "    .dataframe tbody tr th {\n",
       "        vertical-align: top;\n",
       "    }\n",
       "\n",
       "    .dataframe thead th {\n",
       "        text-align: right;\n",
       "    }\n",
       "</style>\n",
       "<table border=\"1\" class=\"dataframe\">\n",
       "  <thead>\n",
       "    <tr style=\"text-align: right;\">\n",
       "      <th></th>\n",
       "      <th>group</th>\n",
       "      <th>instructor</th>\n",
       "      <th>quiz_average</th>\n",
       "      <th>Exam_1</th>\n",
       "      <th>Total</th>\n",
       "      <th>Grade</th>\n",
       "    </tr>\n",
       "  </thead>\n",
       "  <tbody>\n",
       "    <tr>\n",
       "      <td>0</td>\n",
       "      <td>1</td>\n",
       "      <td>B</td>\n",
       "      <td>5.0</td>\n",
       "      <td>76</td>\n",
       "      <td>101.0</td>\n",
       "      <td>71.6710</td>\n",
       "    </tr>\n",
       "    <tr>\n",
       "      <td>1</td>\n",
       "      <td>1</td>\n",
       "      <td>B</td>\n",
       "      <td>5.0</td>\n",
       "      <td>77</td>\n",
       "      <td>102.0</td>\n",
       "      <td>72.5045</td>\n",
       "    </tr>\n",
       "    <tr>\n",
       "      <td>2</td>\n",
       "      <td>1</td>\n",
       "      <td>B</td>\n",
       "      <td>2.5</td>\n",
       "      <td>0</td>\n",
       "      <td>12.5</td>\n",
       "      <td>4.1625</td>\n",
       "    </tr>\n",
       "    <tr>\n",
       "      <td>3</td>\n",
       "      <td>1</td>\n",
       "      <td>B</td>\n",
       "      <td>5.7</td>\n",
       "      <td>92</td>\n",
       "      <td>120.5</td>\n",
       "      <td>86.1725</td>\n",
       "    </tr>\n",
       "    <tr>\n",
       "      <td>4</td>\n",
       "      <td>1</td>\n",
       "      <td>B</td>\n",
       "      <td>9.5</td>\n",
       "      <td>87</td>\n",
       "      <td>134.5</td>\n",
       "      <td>88.3320</td>\n",
       "    </tr>\n",
       "    <tr>\n",
       "      <td>...</td>\n",
       "      <td>...</td>\n",
       "      <td>...</td>\n",
       "      <td>...</td>\n",
       "      <td>...</td>\n",
       "      <td>...</td>\n",
       "      <td>...</td>\n",
       "    </tr>\n",
       "    <tr>\n",
       "      <td>288</td>\n",
       "      <td>13</td>\n",
       "      <td>C</td>\n",
       "      <td>4.6</td>\n",
       "      <td>33</td>\n",
       "      <td>56.0</td>\n",
       "      <td>35.1645</td>\n",
       "    </tr>\n",
       "    <tr>\n",
       "      <td>289</td>\n",
       "      <td>13</td>\n",
       "      <td>C</td>\n",
       "      <td>6.0</td>\n",
       "      <td>54</td>\n",
       "      <td>84.0</td>\n",
       "      <td>54.9990</td>\n",
       "    </tr>\n",
       "    <tr>\n",
       "      <td>290</td>\n",
       "      <td>13</td>\n",
       "      <td>C</td>\n",
       "      <td>3.0</td>\n",
       "      <td>33</td>\n",
       "      <td>48.0</td>\n",
       "      <td>32.5005</td>\n",
       "    </tr>\n",
       "    <tr>\n",
       "      <td>291</td>\n",
       "      <td>13</td>\n",
       "      <td>C</td>\n",
       "      <td>9.0</td>\n",
       "      <td>96</td>\n",
       "      <td>141.0</td>\n",
       "      <td>95.0010</td>\n",
       "    </tr>\n",
       "    <tr>\n",
       "      <td>292</td>\n",
       "      <td>13</td>\n",
       "      <td>C</td>\n",
       "      <td>9.8</td>\n",
       "      <td>103</td>\n",
       "      <td>152.0</td>\n",
       "      <td>102.1675</td>\n",
       "    </tr>\n",
       "  </tbody>\n",
       "</table>\n",
       "<p>293 rows × 6 columns</p>\n",
       "</div>"
      ],
      "text/plain": [
       "     group instructor  quiz_average  Exam_1  Total     Grade\n",
       "0        1          B           5.0      76  101.0   71.6710\n",
       "1        1          B           5.0      77  102.0   72.5045\n",
       "2        1          B           2.5       0   12.5    4.1625\n",
       "3        1          B           5.7      92  120.5   86.1725\n",
       "4        1          B           9.5      87  134.5   88.3320\n",
       "..     ...        ...           ...     ...    ...       ...\n",
       "288     13          C           4.6      33   56.0   35.1645\n",
       "289     13          C           6.0      54   84.0   54.9990\n",
       "290     13          C           3.0      33   48.0   32.5005\n",
       "291     13          C           9.0      96  141.0   95.0010\n",
       "292     13          C           9.8     103  152.0  102.1675\n",
       "\n",
       "[293 rows x 6 columns]"
      ]
     },
     "execution_count": 19,
     "metadata": {},
     "output_type": "execute_result"
    }
   ],
   "source": [
    "import pandas as pd"
   ]
  },
  {
   "cell_type": "markdown",
   "metadata": {},
   "source": [
    "data = pd.read_csv(\"~/Desktop/flashcard_/python files/Students_quizzes.csv\")\n",
    "data"
   ]
  },
  {
   "cell_type": "markdown",
   "metadata": {},
   "source": [
    "# EDA"
   ]
  },
  {
   "cell_type": "code",
   "execution_count": 35,
   "metadata": {},
   "outputs": [
    {
     "data": {
      "text/plain": [
       "<matplotlib.axes._subplots.AxesSubplot at 0x11ddf3390>"
      ]
     },
     "execution_count": 35,
     "metadata": {},
     "output_type": "execute_result"
    },
    {
     "data": {
      "image/png": "[encoded data removed]",
      "text/plain": [
       "<Figure size 432x288 with 1 Axes>"
      ]
     },
     "metadata": {
      "needs_background": "light"
     },
     "output_type": "display_data"
    },
    {
     "data": {
      "image/png": "[encoded data removed]",
      "text/plain": [
       "<Figure size 432x288 with 1 Axes>"
      ]
     },
     "metadata": {
      "needs_background": "light"
     },
     "output_type": "display_data"
    },
    {
     "data": {
      "image/png": "[encoded data removed]",
      "text/plain": [
       "<Figure size 432x288 with 1 Axes>"
      ]
     },
     "metadata": {
      "needs_background": "light"
     },
     "output_type": "display_data"
    }
   ],
   "source": [
    "data.describe()\n",
    "data[\"group\"].value_counts()\n",
    "data[\"instructor\"].value_counts()\n",
    "data[[\"instructor\",\"quiz_average\"]].groupby(\"instructor\").mean()\n",
    "data[[\"instructor\", \"Exam_1\",]].groupby(\"instructor\").mean()\n",
    "data.boxplot(column=\"quiz_average\", by=\"instructor\", grid=False)\n",
    "data.boxplot(column=\"Exam_1\", by=\"instructor\", grid=False)\n",
    "import matplotlib.pyplot as plt\n",
    "plt.scatter(\"quiz_average\", \"Exam_1\", label=\"quiz vs exam\", color=\"k\", s=25, marker=\"o\")\n",
    "data.plot.scatter(x=\"quiz_average\", y=\"Exam_1\", c=\"blue\")"
   ]
  },
  {
   "cell_type": "markdown",
   "metadata": {},
   "source": [
    "# Analysis"
   ]
  },
  {
   "cell_type": "code",
   "execution_count": 38,
   "metadata": {},
   "outputs": [
    {
     "data": {
      "text/html": [
       "<div>\n",
       "<style scoped>\n",
       "    .dataframe tbody tr th:only-of-type {\n",
       "        vertical-align: middle;\n",
       "    }\n",
       "\n",
       "    .dataframe tbody tr th {\n",
       "        vertical-align: top;\n",
       "    }\n",
       "\n",
       "    .dataframe thead th {\n",
       "        text-align: right;\n",
       "    }\n",
       "</style>\n",
       "<table border=\"1\" class=\"dataframe\">\n",
       "  <thead>\n",
       "    <tr style=\"text-align: right;\">\n",
       "      <th></th>\n",
       "      <th>quiz_average</th>\n",
       "      <th>Exam_1</th>\n",
       "    </tr>\n",
       "  </thead>\n",
       "  <tbody>\n",
       "    <tr>\n",
       "      <td>quiz_average</td>\n",
       "      <td>1.000000</td>\n",
       "      <td>0.577959</td>\n",
       "    </tr>\n",
       "    <tr>\n",
       "      <td>Exam_1</td>\n",
       "      <td>0.577959</td>\n",
       "      <td>1.000000</td>\n",
       "    </tr>\n",
       "  </tbody>\n",
       "</table>\n",
       "</div>"
      ],
      "text/plain": [
       "              quiz_average    Exam_1\n",
       "quiz_average      1.000000  0.577959\n",
       "Exam_1            0.577959  1.000000"
      ]
     },
     "execution_count": 38,
     "metadata": {},
     "output_type": "execute_result"
    }
   ],
   "source": [
    "data[[\"quiz_average\",\"Exam_1\"]].corr(method=\"pearson\")"
   ]
  },
  {
   "cell_type": "code",
   "execution_count": null,
   "metadata": {},
   "outputs": [],
   "source": []
  },
  {
   "cell_type": "code",
   "execution_count": null,
   "metadata": {},
   "outputs": [],
   "source": []
  },
  {
   "cell_type": "code",
   "execution_count": null,
   "metadata": {},
   "outputs": [],
   "source": []
  }
 ],
 "metadata": {
  "kernelspec": {
   "display_name": "Python 3",
   "language": "python",
   "name": "python3"
  },
  "language_info": {
   "codemirror_mode": {
    "name": "ipython",
    "version": 3
   },
   "file_extension": ".py",
   "mimetype": "text/x-python",
   "name": "python",
   "nbconvert_exporter": "python",
   "pygments_lexer": "ipython3",
   "version": "3.7.4"
  }
 },
 "nbformat": 4,
 "nbformat_minor": 2
}
