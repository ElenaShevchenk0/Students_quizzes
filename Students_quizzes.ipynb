{
 "cells": [
  {
   "cell_type": "code",
   "execution_count": 19,
   "metadata": {},
   "outputs": [
    {
     "data": {
      "text/html": [
       "<div>\n",
       "<style scoped>\n",
       "    .dataframe tbody tr th:only-of-type {\n",
       "        vertical-align: middle;\n",
       "    }\n",
       "\n",
       "    .dataframe tbody tr th {\n",
       "        vertical-align: top;\n",
       "    }\n",
       "\n",
       "    .dataframe thead th {\n",
       "        text-align: right;\n",
       "    }\n",
       "</style>\n",
       "<table border=\"1\" class=\"dataframe\">\n",
       "  <thead>\n",
       "    <tr style=\"text-align: right;\">\n",
       "      <th></th>\n",
       "      <th>group</th>\n",
       "      <th>instructor</th>\n",
       "      <th>quiz_average</th>\n",
       "      <th>Exam_1</th>\n",
       "      <th>Total</th>\n",
       "      <th>Grade</th>\n",
       "    </tr>\n",
       "  </thead>\n",
       "  <tbody>\n",
       "    <tr>\n",
       "      <td>0</td>\n",
       "      <td>1</td>\n",
       "      <td>B</td>\n",
       "      <td>5.0</td>\n",
       "      <td>76</td>\n",
       "      <td>101.0</td>\n",
       "      <td>71.6710</td>\n",
       "    </tr>\n",
       "    <tr>\n",
       "      <td>1</td>\n",
       "      <td>1</td>\n",
       "      <td>B</td>\n",
       "      <td>5.0</td>\n",
       "      <td>77</td>\n",
       "      <td>102.0</td>\n",
       "      <td>72.5045</td>\n",
       "    </tr>\n",
       "    <tr>\n",
       "      <td>2</td>\n",
       "      <td>1</td>\n",
       "      <td>B</td>\n",
       "      <td>2.5</td>\n",
       "      <td>0</td>\n",
       "      <td>12.5</td>\n",
       "      <td>4.1625</td>\n",
       "    </tr>\n",
       "    <tr>\n",
       "      <td>3</td>\n",
       "      <td>1</td>\n",
       "      <td>B</td>\n",
       "      <td>5.7</td>\n",
       "      <td>92</td>\n",
       "      <td>120.5</td>\n",
       "      <td>86.1725</td>\n",
       "    </tr>\n",
       "    <tr>\n",
       "      <td>4</td>\n",
       "      <td>1</td>\n",
       "      <td>B</td>\n",
       "      <td>9.5</td>\n",
       "      <td>87</td>\n",
       "      <td>134.5</td>\n",
       "      <td>88.3320</td>\n",
       "    </tr>\n",
       "    <tr>\n",
       "      <td>...</td>\n",
       "      <td>...</td>\n",
       "      <td>...</td>\n",
       "      <td>...</td>\n",
       "      <td>...</td>\n",
       "      <td>...</td>\n",
       "      <td>...</td>\n",
       "    </tr>\n",
       "    <tr>\n",
       "      <td>288</td>\n",
       "      <td>13</td>\n",
       "      <td>C</td>\n",
       "      <td>4.6</td>\n",
       "      <td>33</td>\n",
       "      <td>56.0</td>\n",
       "      <td>35.1645</td>\n",
       "    </tr>\n",
       "    <tr>\n",
       "      <td>289</td>\n",
       "      <td>13</td>\n",
       "      <td>C</td>\n",
       "      <td>6.0</td>\n",
       "      <td>54</td>\n",
       "      <td>84.0</td>\n",
       "      <td>54.9990</td>\n",
       "    </tr>\n",
       "    <tr>\n",
       "      <td>290</td>\n",
       "      <td>13</td>\n",
       "      <td>C</td>\n",
       "      <td>3.0</td>\n",
       "      <td>33</td>\n",
       "      <td>48.0</td>\n",
       "      <td>32.5005</td>\n",
       "    </tr>\n",
       "    <tr>\n",
       "      <td>291</td>\n",
       "      <td>13</td>\n",
       "      <td>C</td>\n",
       "      <td>9.0</td>\n",
       "      <td>96</td>\n",
       "      <td>141.0</td>\n",
       "      <td>95.0010</td>\n",
       "    </tr>\n",
       "    <tr>\n",
       "      <td>292</td>\n",
       "      <td>13</td>\n",
       "      <td>C</td>\n",
       "      <td>9.8</td>\n",
       "      <td>103</td>\n",
       "      <td>152.0</td>\n",
       "      <td>102.1675</td>\n",
       "    </tr>\n",
       "  </tbody>\n",
       "</table>\n",
       "<p>293 rows × 6 columns</p>\n",
       "</div>"
      ],
      "text/plain": [
       "     group instructor  quiz_average  Exam_1  Total     Grade\n",
       "0        1          B           5.0      76  101.0   71.6710\n",
       "1        1          B           5.0      77  102.0   72.5045\n",
       "2        1          B           2.5       0   12.5    4.1625\n",
       "3        1          B           5.7      92  120.5   86.1725\n",
       "4        1          B           9.5      87  134.5   88.3320\n",
       "..     ...        ...           ...     ...    ...       ...\n",
       "288     13          C           4.6      33   56.0   35.1645\n",
       "289     13          C           6.0      54   84.0   54.9990\n",
       "290     13          C           3.0      33   48.0   32.5005\n",
       "291     13          C           9.0      96  141.0   95.0010\n",
       "292     13          C           9.8     103  152.0  102.1675\n",
       "\n",
       "[293 rows x 6 columns]"
      ]
     },
     "execution_count": 19,
     "metadata": {},
     "output_type": "execute_result"
    }
   ],
   "source": [
    "import pandas as pd"
   ]
  },
  {
   "cell_type": "code",
   "execution_count": 80,
   "metadata": {},
   "outputs": [
    {
     "data": {
      "text/html": [
       "<div>\n",
       "<style scoped>\n",
       "    .dataframe tbody tr th:only-of-type {\n",
       "        vertical-align: middle;\n",
       "    }\n",
       "\n",
       "    .dataframe tbody tr th {\n",
       "        vertical-align: top;\n",
       "    }\n",
       "\n",
       "    .dataframe thead th {\n",
       "        text-align: right;\n",
       "    }\n",
       "</style>\n",
       "<table border=\"1\" class=\"dataframe\">\n",
       "  <thead>\n",
       "    <tr style=\"text-align: right;\">\n",
       "      <th></th>\n",
       "      <th>group</th>\n",
       "      <th>instructor</th>\n",
       "      <th>quiz_average</th>\n",
       "      <th>Exam_1</th>\n",
       "      <th>Total</th>\n",
       "      <th>Grade</th>\n",
       "    </tr>\n",
       "  </thead>\n",
       "  <tbody>\n",
       "    <tr>\n",
       "      <td>0</td>\n",
       "      <td>1</td>\n",
       "      <td>B</td>\n",
       "      <td>5.0</td>\n",
       "      <td>76</td>\n",
       "      <td>101.0</td>\n",
       "      <td>71.6710</td>\n",
       "    </tr>\n",
       "    <tr>\n",
       "      <td>1</td>\n",
       "      <td>1</td>\n",
       "      <td>B</td>\n",
       "      <td>5.0</td>\n",
       "      <td>77</td>\n",
       "      <td>102.0</td>\n",
       "      <td>72.5045</td>\n",
       "    </tr>\n",
       "    <tr>\n",
       "      <td>3</td>\n",
       "      <td>1</td>\n",
       "      <td>B</td>\n",
       "      <td>5.7</td>\n",
       "      <td>92</td>\n",
       "      <td>120.5</td>\n",
       "      <td>86.1725</td>\n",
       "    </tr>\n",
       "    <tr>\n",
       "      <td>4</td>\n",
       "      <td>1</td>\n",
       "      <td>B</td>\n",
       "      <td>9.5</td>\n",
       "      <td>87</td>\n",
       "      <td>134.5</td>\n",
       "      <td>88.3320</td>\n",
       "    </tr>\n",
       "    <tr>\n",
       "      <td>5</td>\n",
       "      <td>1</td>\n",
       "      <td>B</td>\n",
       "      <td>4.6</td>\n",
       "      <td>58</td>\n",
       "      <td>81.0</td>\n",
       "      <td>56.0020</td>\n",
       "    </tr>\n",
       "    <tr>\n",
       "      <td>...</td>\n",
       "      <td>...</td>\n",
       "      <td>...</td>\n",
       "      <td>...</td>\n",
       "      <td>...</td>\n",
       "      <td>...</td>\n",
       "      <td>...</td>\n",
       "    </tr>\n",
       "    <tr>\n",
       "      <td>288</td>\n",
       "      <td>13</td>\n",
       "      <td>C</td>\n",
       "      <td>4.6</td>\n",
       "      <td>33</td>\n",
       "      <td>56.0</td>\n",
       "      <td>35.1645</td>\n",
       "    </tr>\n",
       "    <tr>\n",
       "      <td>289</td>\n",
       "      <td>13</td>\n",
       "      <td>C</td>\n",
       "      <td>6.0</td>\n",
       "      <td>54</td>\n",
       "      <td>84.0</td>\n",
       "      <td>54.9990</td>\n",
       "    </tr>\n",
       "    <tr>\n",
       "      <td>290</td>\n",
       "      <td>13</td>\n",
       "      <td>C</td>\n",
       "      <td>3.0</td>\n",
       "      <td>33</td>\n",
       "      <td>48.0</td>\n",
       "      <td>32.5005</td>\n",
       "    </tr>\n",
       "    <tr>\n",
       "      <td>291</td>\n",
       "      <td>13</td>\n",
       "      <td>C</td>\n",
       "      <td>9.0</td>\n",
       "      <td>96</td>\n",
       "      <td>141.0</td>\n",
       "      <td>95.0010</td>\n",
       "    </tr>\n",
       "    <tr>\n",
       "      <td>292</td>\n",
       "      <td>13</td>\n",
       "      <td>C</td>\n",
       "      <td>9.8</td>\n",
       "      <td>103</td>\n",
       "      <td>152.0</td>\n",
       "      <td>102.1675</td>\n",
       "    </tr>\n",
       "  </tbody>\n",
       "</table>\n",
       "<p>281 rows × 6 columns</p>\n",
       "</div>"
      ],
      "text/plain": [
       "     group instructor  quiz_average  Exam_1  Total     Grade\n",
       "0        1          B           5.0      76  101.0   71.6710\n",
       "1        1          B           5.0      77  102.0   72.5045\n",
       "3        1          B           5.7      92  120.5   86.1725\n",
       "4        1          B           9.5      87  134.5   88.3320\n",
       "5        1          B           4.6      58   81.0   56.0020\n",
       "..     ...        ...           ...     ...    ...       ...\n",
       "288     13          C           4.6      33   56.0   35.1645\n",
       "289     13          C           6.0      54   84.0   54.9990\n",
       "290     13          C           3.0      33   48.0   32.5005\n",
       "291     13          C           9.0      96  141.0   95.0010\n",
       "292     13          C           9.8     103  152.0  102.1675\n",
       "\n",
       "[281 rows x 6 columns]"
      ]
     },
     "execution_count": 80,
     "metadata": {},
     "output_type": "execute_result"
    }
   ],
   "source": [
    "data = pd.read_csv(\"~/Desktop/flashcard_/python files/Students_quizzes.csv\")\n",
    "data = data[data.Exam_1 != 0]\n",
    "data"
   ]
  },
  {
   "cell_type": "markdown",
   "metadata": {},
   "source": [
    "# EDA"
   ]
  },
  {
   "cell_type": "code",
   "execution_count": 104,
   "metadata": {},
   "outputs": [
    {
     "name": "stdout",
     "output_type": "stream",
     "text": [
      "            group  quiz_average      Exam_1       Total       Grade\n",
      "count  281.000000    281.000000  281.000000  281.000000  281.000000\n",
      "mean     7.209964      5.988968   74.227758  104.172598   71.892981\n",
      "std      3.667722      2.359612   22.395585   30.204061   20.999297\n",
      "min      1.000000      0.400000   10.000000   32.000000   17.495500\n",
      "25%      4.000000      4.200000   59.000000   83.000000   57.173500\n",
      "50%      7.000000      5.800000   78.000000  110.000000   76.341000\n",
      "75%     10.000000      7.800000   93.000000  128.000000   89.332000\n",
      "max     13.000000     10.000000  105.000000  155.000000  104.167500\n",
      "               instructor\n",
      "Exam_1  count  A              65.000000\n",
      "               B              59.000000\n",
      "               C              90.000000\n",
      "               D              67.000000\n",
      "        mean   A              75.276923\n",
      "               B              65.966102\n",
      "               C              77.300000\n",
      "               D              76.358209\n",
      "        std    A              21.529419\n",
      "               B              22.176382\n",
      "               C              22.256144\n",
      "               D              22.330643\n",
      "        min    A              28.000000\n",
      "               B              14.000000\n",
      "               C              10.000000\n",
      "               D              13.000000\n",
      "        25%    A              64.000000\n",
      "               B              48.000000\n",
      "               C              62.500000\n",
      "               D              62.500000\n",
      "        50%    A              78.000000\n",
      "               B              70.000000\n",
      "               C              84.000000\n",
      "               D              81.000000\n",
      "        75%    A              93.000000\n",
      "               B              84.500000\n",
      "               C              95.000000\n",
      "               D              96.000000\n",
      "        max    A             105.000000\n",
      "               B             102.000000\n",
      "               C             105.000000\n",
      "               D             103.000000\n",
      "dtype: float64\n",
      "        instructor\n",
      "Exam_1  A             21.529419\n",
      "        B             22.176382\n",
      "        C             22.256144\n",
      "        D             22.330643\n",
      "dtype: float64\n"
     ]
    }
   ],
   "source": [
    "print(data.describe())\n",
    "print(data.groupby('instructor')[[\"Exam_1\"]].describe().unstack(1))\n",
    "print(data.groupby('instructor')[[\"Exam_1\"]].std().unstack(1))"
   ]
  },
  {
   "cell_type": "code",
   "execution_count": 103,
   "metadata": {},
   "outputs": [
    {
     "name": "stdout",
     "output_type": "stream",
     "text": [
      "            quiz_average\n",
      "instructor              \n",
      "A               3.993846\n",
      "B               5.216949\n",
      "C               8.086667\n",
      "D               5.786567\n",
      "               Exam_1\n",
      "instructor           \n",
      "A           75.276923\n",
      "B           65.966102\n",
      "C           77.300000\n",
      "D           76.358209\n"
     ]
    },
    {
     "data": {
      "text/html": [
       "<div>\n",
       "<style scoped>\n",
       "    .dataframe tbody tr th:only-of-type {\n",
       "        vertical-align: middle;\n",
       "    }\n",
       "\n",
       "    .dataframe tbody tr th {\n",
       "        vertical-align: top;\n",
       "    }\n",
       "\n",
       "    .dataframe thead th {\n",
       "        text-align: right;\n",
       "    }\n",
       "</style>\n",
       "<table border=\"1\" class=\"dataframe\">\n",
       "  <thead>\n",
       "    <tr style=\"text-align: right;\">\n",
       "      <th></th>\n",
       "      <th>Exam_1</th>\n",
       "    </tr>\n",
       "    <tr>\n",
       "      <th>instructor</th>\n",
       "      <th></th>\n",
       "    </tr>\n",
       "  </thead>\n",
       "  <tbody>\n",
       "    <tr>\n",
       "      <td>A</td>\n",
       "      <td>77</td>\n",
       "    </tr>\n",
       "    <tr>\n",
       "      <td>B</td>\n",
       "      <td>88</td>\n",
       "    </tr>\n",
       "    <tr>\n",
       "      <td>C</td>\n",
       "      <td>95</td>\n",
       "    </tr>\n",
       "    <tr>\n",
       "      <td>D</td>\n",
       "      <td>90</td>\n",
       "    </tr>\n",
       "  </tbody>\n",
       "</table>\n",
       "</div>"
      ],
      "text/plain": [
       "            Exam_1\n",
       "instructor        \n",
       "A               77\n",
       "B               88\n",
       "C               95\n",
       "D               90"
      ]
     },
     "execution_count": 103,
     "metadata": {},
     "output_type": "execute_result"
    }
   ],
   "source": [
    "data[\"group\"].value_counts()\n",
    "data[\"instructor\"].value_counts()\n",
    "print(data[[\"instructor\",\"quiz_average\"]].groupby(\"instructor\").mean())\n",
    "print(data[[\"instructor\", \"Exam_1\"]].groupby(\"instructor\").mean())\n",
    "data[[\"instructor\",\"Exam_1\"]].groupby(\"instructor\").max() - data[[\"instructor\",\"Exam_1\"]].groupby(\"instructor\").min() \n"
   ]
  },
  {
   "cell_type": "code",
   "execution_count": 107,
   "metadata": {},
   "outputs": [
    {
     "data": {
      "text/plain": [
       "instructor\n",
       "A    AxesSubplot(0.125,0.125;0.775x0.755)\n",
       "B    AxesSubplot(0.125,0.125;0.775x0.755)\n",
       "C    AxesSubplot(0.125,0.125;0.775x0.755)\n",
       "D    AxesSubplot(0.125,0.125;0.775x0.755)\n",
       "dtype: object"
      ]
     },
     "execution_count": 107,
     "metadata": {},
     "output_type": "execute_result"
    },
    {
     "data": {
      "image/png": "[encoded data removed]",
      "text/plain": [
       "<Figure size 432x288 with 1 Axes>"
      ]
     },
     "metadata": {
      "needs_background": "light"
     },
     "output_type": "display_data"
    },
    {
     "data": {
      "image/png": "[encoded data removed]",
      "text/plain": [
       "<Figure size 432x288 with 1 Axes>"
      ]
     },
     "metadata": {
      "needs_background": "light"
     },
     "output_type": "display_data"
    },
    {
     "data": {
      "image/png": "[encoded data removed]",
      "text/plain": [
       "<Figure size 432x288 with 1 Axes>"
      ]
     },
     "metadata": {
      "needs_background": "light"
     },
     "output_type": "display_data"
    },
    {
     "data": {
      "image/png": "[encoded data removed]",
      "text/plain": [
       "<Figure size 432x288 with 1 Axes>"
      ]
     },
     "metadata": {
      "needs_background": "light"
     },
     "output_type": "display_data"
    },
    {
     "data": {
      "image/png": "[encoded data removed]",
      "text/plain": [
       "<Figure size 432x288 with 1 Axes>"
      ]
     },
     "metadata": {
      "needs_background": "light"
     },
     "output_type": "display_data"
    },
    {
     "data": {
      "image/png": "[encoded data removed]",
      "text/plain": [
       "<Figure size 432x288 with 1 Axes>"
      ]
     },
     "metadata": {
      "needs_background": "light"
     },
     "output_type": "display_data"
    },
    {
     "data": {
      "image/png": "[encoded data removed]",
      "text/plain": [
       "<Figure size 432x288 with 1 Axes>"
      ]
     },
     "metadata": {
      "needs_background": "light"
     },
     "output_type": "display_data"
    }
   ],
   "source": [
    "data.boxplot(column=\"quiz_average\", by=\"instructor\", grid=False)\n",
    "data.boxplot(column=\"Exam_1\", by=\"instructor\", grid=False)\n",
    "import matplotlib.pyplot as plt\n",
    "data.plot.scatter(x=\"quiz_average\", y=\"Exam_1\", c=\"blue\")\n",
    "data.groupby(\"instructor\").plot.scatter(x=\"quiz_average\", y=\"Exam_1\", c=\"blue\")"
   ]
  },
  {
   "cell_type": "markdown",
   "metadata": {},
   "source": [
    "# Analysis"
   ]
  },
  {
   "cell_type": "code",
   "execution_count": 106,
   "metadata": {},
   "outputs": [
    {
     "name": "stdout",
     "output_type": "stream",
     "text": [
      "              quiz_average    Exam_1\n",
      "quiz_average      1.000000  0.513822\n",
      "Exam_1            0.513822  1.000000\n"
     ]
    },
    {
     "data": {
      "text/html": [
       "<div>\n",
       "<style scoped>\n",
       "    .dataframe tbody tr th:only-of-type {\n",
       "        vertical-align: middle;\n",
       "    }\n",
       "\n",
       "    .dataframe tbody tr th {\n",
       "        vertical-align: top;\n",
       "    }\n",
       "\n",
       "    .dataframe thead th {\n",
       "        text-align: right;\n",
       "    }\n",
       "</style>\n",
       "<table border=\"1\" class=\"dataframe\">\n",
       "  <thead>\n",
       "    <tr style=\"text-align: right;\">\n",
       "      <th></th>\n",
       "      <th></th>\n",
       "      <th>quiz_average</th>\n",
       "      <th>Exam_1</th>\n",
       "    </tr>\n",
       "    <tr>\n",
       "      <th>instructor</th>\n",
       "      <th></th>\n",
       "      <th></th>\n",
       "      <th></th>\n",
       "    </tr>\n",
       "  </thead>\n",
       "  <tbody>\n",
       "    <tr>\n",
       "      <td rowspan=\"2\" valign=\"top\">A</td>\n",
       "      <td>quiz_average</td>\n",
       "      <td>1.000000</td>\n",
       "      <td>0.711916</td>\n",
       "    </tr>\n",
       "    <tr>\n",
       "      <td>Exam_1</td>\n",
       "      <td>0.711916</td>\n",
       "      <td>1.000000</td>\n",
       "    </tr>\n",
       "    <tr>\n",
       "      <td rowspan=\"2\" valign=\"top\">B</td>\n",
       "      <td>quiz_average</td>\n",
       "      <td>1.000000</td>\n",
       "      <td>0.568907</td>\n",
       "    </tr>\n",
       "    <tr>\n",
       "      <td>Exam_1</td>\n",
       "      <td>0.568907</td>\n",
       "      <td>1.000000</td>\n",
       "    </tr>\n",
       "    <tr>\n",
       "      <td rowspan=\"2\" valign=\"top\">C</td>\n",
       "      <td>quiz_average</td>\n",
       "      <td>1.000000</td>\n",
       "      <td>0.658733</td>\n",
       "    </tr>\n",
       "    <tr>\n",
       "      <td>Exam_1</td>\n",
       "      <td>0.658733</td>\n",
       "      <td>1.000000</td>\n",
       "    </tr>\n",
       "    <tr>\n",
       "      <td rowspan=\"2\" valign=\"top\">D</td>\n",
       "      <td>quiz_average</td>\n",
       "      <td>1.000000</td>\n",
       "      <td>0.609444</td>\n",
       "    </tr>\n",
       "    <tr>\n",
       "      <td>Exam_1</td>\n",
       "      <td>0.609444</td>\n",
       "      <td>1.000000</td>\n",
       "    </tr>\n",
       "  </tbody>\n",
       "</table>\n",
       "</div>"
      ],
      "text/plain": [
       "                         quiz_average    Exam_1\n",
       "instructor                                     \n",
       "A          quiz_average      1.000000  0.711916\n",
       "           Exam_1            0.711916  1.000000\n",
       "B          quiz_average      1.000000  0.568907\n",
       "           Exam_1            0.568907  1.000000\n",
       "C          quiz_average      1.000000  0.658733\n",
       "           Exam_1            0.658733  1.000000\n",
       "D          quiz_average      1.000000  0.609444\n",
       "           Exam_1            0.609444  1.000000"
      ]
     },
     "execution_count": 106,
     "metadata": {},
     "output_type": "execute_result"
    }
   ],
   "source": [
    "print(data[[\"quiz_average\",\"Exam_1\"]].corr(method=\"pearson\"))\n",
    "data.groupby(\"instructor\")[[\"quiz_average\",\"Exam_1\"]].corr(method=\"pearson\")"
   ]
  },
  {
   "cell_type": "markdown",
   "metadata": {},
   "source": [
    "# ANOVA (quizzes)"
   ]
  },
  {
   "cell_type": "code",
   "execution_count": 117,
   "metadata": {},
   "outputs": [
    {
     "name": "stdout",
     "output_type": "stream",
     "text": [
      "                sum_sq     df         F        PR(>F)\n",
      "instructor  692.673301    3.0  73.82737  4.065494e-35\n",
      "Residual    866.302500  277.0       NaN           NaN\n"
     ]
    },
    {
     "data": {
      "text/plain": [
       "Intercept          3.993846\n",
       "instructor[T.B]    1.223103\n",
       "instructor[T.C]    4.092821\n",
       "instructor[T.D]    1.792721\n",
       "dtype: float64"
      ]
     },
     "execution_count": 117,
     "metadata": {},
     "output_type": "execute_result"
    }
   ],
   "source": [
    "import statsmodels.formula.api as smf\n",
    "import statsmodels.stats.multicomp as multi\n",
    "import statsmodels.api as sm\n",
    "from statsmodels.formula.api import ols\n",
    "ols_model = ols('quiz_average ~ instructor', data=data).fit()\n",
    "print(sm.stats.anova_lm(ols_model,typ=2))\n",
    "ols_model.params"
   ]
  },
  {
   "cell_type": "markdown",
   "metadata": {},
   "source": [
    "# Assumptions"
   ]
  },
  {
   "cell_type": "markdown",
   "metadata": {},
   "source": [
    "### Shapiro - Wilks test for normality"
   ]
  },
  {
   "cell_type": "code",
   "execution_count": 112,
   "metadata": {},
   "outputs": [
    {
     "name": "stdout",
     "output_type": "stream",
     "text": [
      "0.985715925693512 0.006782087031751871\n"
     ]
    }
   ],
   "source": [
    "import scipy.stats as stats\n",
    "w, pvalue = stats.shapiro(ols_model.resid)\n",
    "print(w, pvalue)"
   ]
  },
  {
   "cell_type": "markdown",
   "metadata": {},
   "source": [
    "### Levene test for homogeneity of variances"
   ]
  },
  {
   "cell_type": "code",
   "execution_count": 113,
   "metadata": {},
   "outputs": [
    {
     "name": "stdout",
     "output_type": "stream",
     "text": [
      "377.77190127055013 1.0699783958941828e-64\n"
     ]
    }
   ],
   "source": [
    "import scipy.stats as stats\n",
    "w, pvalue = stats.levene(data['quiz_average'],data[\"Exam_1\"])\n",
    "print(w, pvalue)"
   ]
  },
  {
   "cell_type": "markdown",
   "metadata": {},
   "source": [
    "# Post hoc test"
   ]
  },
  {
   "cell_type": "code",
   "execution_count": 114,
   "metadata": {},
   "outputs": [],
   "source": [
    "import statsmodels.formula.api as smf\n",
    "import statsmodels.stats.multicomp as multi"
   ]
  },
  {
   "cell_type": "code",
   "execution_count": 115,
   "metadata": {},
   "outputs": [
    {
     "name": "stdout",
     "output_type": "stream",
     "text": [
      "Multiple Comparison of Means - Tukey HSD, FWER=0.05 \n",
      "====================================================\n",
      "group1 group2 meandiff p-adj   lower   upper  reject\n",
      "----------------------------------------------------\n",
      "     A      B   1.2231  0.001  0.4011  2.0451   True\n",
      "     A      C   4.0928  0.001  3.3488  4.8369   True\n",
      "     A      D   1.7927  0.001  0.9969  2.5885   True\n",
      "     B      C   2.8697  0.001   2.104  3.6354   True\n",
      "     B      D   0.5696 0.2737 -0.2465  1.3857  False\n",
      "     C      D  -2.3001  0.001 -3.0377 -1.5625   True\n",
      "----------------------------------------------------\n"
     ]
    }
   ],
   "source": [
    "mc_test = multi.MultiComparison(data['quiz_average'], data['instructor'])\n",
    "result = mc_test.tukeyhsd()\n",
    "print(result)"
   ]
  },
  {
   "cell_type": "markdown",
   "metadata": {},
   "source": [
    "# ANOVA (exams)"
   ]
  },
  {
   "cell_type": "code",
   "execution_count": 118,
   "metadata": {},
   "outputs": [
    {
     "name": "stdout",
     "output_type": "stream",
     "text": [
      "                   sum_sq     df         F    PR(>F)\n",
      "instructor    5252.172914    3.0  3.587304  0.014247\n",
      "Residual    135185.250573  277.0       NaN       NaN\n"
     ]
    },
    {
     "data": {
      "text/plain": [
       "Intercept          75.276923\n",
       "instructor[T.B]    -9.310821\n",
       "instructor[T.C]     2.023077\n",
       "instructor[T.D]     1.081286\n",
       "dtype: float64"
      ]
     },
     "execution_count": 118,
     "metadata": {},
     "output_type": "execute_result"
    }
   ],
   "source": [
    "import statsmodels.formula.api as smf\n",
    "import statsmodels.stats.multicomp as multi\n",
    "import statsmodels.api as sm\n",
    "from statsmodels.formula.api import ols\n",
    "ols_model_2 = ols('Exam_1 ~ instructor', data=data).fit()\n",
    "print(sm.stats.anova_lm(ols_model_2,typ=2))\n",
    "ols_model_2.params"
   ]
  },
  {
   "cell_type": "markdown",
   "metadata": {},
   "source": [
    "# Post hoc test"
   ]
  },
  {
   "cell_type": "code",
   "execution_count": 119,
   "metadata": {},
   "outputs": [],
   "source": [
    "import statsmodels.formula.api as smf\n",
    "import statsmodels.stats.multicomp as multi"
   ]
  },
  {
   "cell_type": "code",
   "execution_count": 120,
   "metadata": {},
   "outputs": [
    {
     "name": "stdout",
     "output_type": "stream",
     "text": [
      " Multiple Comparison of Means - Tukey HSD, FWER=0.05 \n",
      "=====================================================\n",
      "group1 group2 meandiff p-adj   lower    upper  reject\n",
      "-----------------------------------------------------\n",
      "     A      B  -9.3108 0.0907 -19.5787   0.957  False\n",
      "     A      C   2.0231    0.9  -7.2717 11.3179  False\n",
      "     A      D   1.0813    0.9    -8.86 11.0226  False\n",
      "     B      C  11.3339 0.0128   1.7686 20.8992   True\n",
      "     B      D  10.3921 0.0438   0.1974 20.5868   True\n",
      "     C      D  -0.9418    0.9 -10.1557  8.2721  False\n",
      "-----------------------------------------------------\n"
     ]
    }
   ],
   "source": [
    "mc_test_2 = multi.MultiComparison(data['Exam_1'], data['instructor'])\n",
    "result_2 = mc_test_2.tukeyhsd()\n",
    "print(result_2)"
   ]
  },
  {
   "cell_type": "code",
   "execution_count": null,
   "metadata": {},
   "outputs": [],
   "source": []
  }
 ],
 "metadata": {
  "kernelspec": {
   "display_name": "Python 3",
   "language": "python",
   "name": "python3"
  },
  "language_info": {
   "codemirror_mode": {
    "name": "ipython",
    "version": 3
   },
   "file_extension": ".py",
   "mimetype": "text/x-python",
   "name": "python",
   "nbconvert_exporter": "python",
   "pygments_lexer": "ipython3",
   "version": "3.7.4"
  }
 },
 "nbformat": 4,
 "nbformat_minor": 2
}
